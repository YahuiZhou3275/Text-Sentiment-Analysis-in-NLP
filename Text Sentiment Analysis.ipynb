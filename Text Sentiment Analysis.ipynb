{
 "cells": [
  {
   "cell_type": "code",
   "execution_count": 2,
   "id": "b2435294",
   "metadata": {},
   "outputs": [],
   "source": [
    "import numpy as np\n",
    "import pandas as pd\n",
    "import string\n",
    "from sklearn.feature_extraction.text import CountVectorizer"
   ]
  },
  {
   "cell_type": "markdown",
   "id": "b5b753d2",
   "metadata": {},
   "source": [
    "## 1. Read the data"
   ]
  },
  {
   "cell_type": "code",
   "execution_count": 3,
   "id": "b88e0e0d",
   "metadata": {},
   "outputs": [],
   "source": [
    "# read the txt file\n",
    "amazon = pd.read_table(\"amazon_cells_labelled.txt\", quotechar=\"\\t\", header = None, names = [\"Sentence\", \"Label\"])\n",
    "imdb = pd.read_table(\"imdb_labelled.txt\", quotechar=\"\\t\", header = None, names = [\"Sentence\", \"Label\"])\n",
    "yelp = pd.read_table(\"yelp_labelled.txt\", quotechar=\"\\t\", header = None, names = [\"Sentence\", \"Label\"])"
   ]
  },
  {
   "cell_type": "code",
   "execution_count": 4,
   "id": "6187b8f2",
   "metadata": {},
   "outputs": [
    {
     "data": {
      "text/html": [
       "<div>\n",
       "<style scoped>\n",
       "    .dataframe tbody tr th:only-of-type {\n",
       "        vertical-align: middle;\n",
       "    }\n",
       "\n",
       "    .dataframe tbody tr th {\n",
       "        vertical-align: top;\n",
       "    }\n",
       "\n",
       "    .dataframe thead th {\n",
       "        text-align: right;\n",
       "    }\n",
       "</style>\n",
       "<table border=\"1\" class=\"dataframe\">\n",
       "  <thead>\n",
       "    <tr style=\"text-align: right;\">\n",
       "      <th></th>\n",
       "      <th>Sentence</th>\n",
       "      <th>Label</th>\n",
       "    </tr>\n",
       "  </thead>\n",
       "  <tbody>\n",
       "    <tr>\n",
       "      <th>0</th>\n",
       "      <td>So there is no way for me to plug it in here i...</td>\n",
       "      <td>0</td>\n",
       "    </tr>\n",
       "    <tr>\n",
       "      <th>1</th>\n",
       "      <td>Good case, Excellent value.</td>\n",
       "      <td>1</td>\n",
       "    </tr>\n",
       "    <tr>\n",
       "      <th>2</th>\n",
       "      <td>Great for the jawbone.</td>\n",
       "      <td>1</td>\n",
       "    </tr>\n",
       "    <tr>\n",
       "      <th>3</th>\n",
       "      <td>Tied to charger for conversations lasting more...</td>\n",
       "      <td>0</td>\n",
       "    </tr>\n",
       "    <tr>\n",
       "      <th>4</th>\n",
       "      <td>The mic is great.</td>\n",
       "      <td>1</td>\n",
       "    </tr>\n",
       "    <tr>\n",
       "      <th>...</th>\n",
       "      <td>...</td>\n",
       "      <td>...</td>\n",
       "    </tr>\n",
       "    <tr>\n",
       "      <th>2995</th>\n",
       "      <td>I think food should have flavor and texture an...</td>\n",
       "      <td>0</td>\n",
       "    </tr>\n",
       "    <tr>\n",
       "      <th>2996</th>\n",
       "      <td>Appetite instantly gone.</td>\n",
       "      <td>0</td>\n",
       "    </tr>\n",
       "    <tr>\n",
       "      <th>2997</th>\n",
       "      <td>Overall I was not impressed and would not go b...</td>\n",
       "      <td>0</td>\n",
       "    </tr>\n",
       "    <tr>\n",
       "      <th>2998</th>\n",
       "      <td>The whole experience was underwhelming, and I ...</td>\n",
       "      <td>0</td>\n",
       "    </tr>\n",
       "    <tr>\n",
       "      <th>2999</th>\n",
       "      <td>Then, as if I hadn't wasted enough of my life ...</td>\n",
       "      <td>0</td>\n",
       "    </tr>\n",
       "  </tbody>\n",
       "</table>\n",
       "<p>3000 rows × 2 columns</p>\n",
       "</div>"
      ],
      "text/plain": [
       "                                               Sentence  Label\n",
       "0     So there is no way for me to plug it in here i...      0\n",
       "1                           Good case, Excellent value.      1\n",
       "2                                Great for the jawbone.      1\n",
       "3     Tied to charger for conversations lasting more...      0\n",
       "4                                     The mic is great.      1\n",
       "...                                                 ...    ...\n",
       "2995  I think food should have flavor and texture an...      0\n",
       "2996                           Appetite instantly gone.      0\n",
       "2997  Overall I was not impressed and would not go b...      0\n",
       "2998  The whole experience was underwhelming, and I ...      0\n",
       "2999  Then, as if I hadn't wasted enough of my life ...      0\n",
       "\n",
       "[3000 rows x 2 columns]"
      ]
     },
     "execution_count": 4,
     "metadata": {},
     "output_type": "execute_result"
    }
   ],
   "source": [
    "# merge the three table\n",
    "original = pd.concat([amazon,imdb,yelp])\n",
    "original = original.set_index(np.arange(0,3000))\n",
    "original"
   ]
  },
  {
   "cell_type": "markdown",
   "id": "6e850d32",
   "metadata": {},
   "source": [
    "## 2. Clean the data - Filter out punctuation"
   ]
  },
  {
   "cell_type": "code",
   "execution_count": 5,
   "id": "0e713777",
   "metadata": {},
   "outputs": [],
   "source": [
    "# tokenize\n",
    "words = []\n",
    "\n",
    "for i in range(0, len(original)):\n",
    "    sentence = original['Sentence'].iloc[i]\n",
    "    tokens = sentence.translate(str.maketrans(string.punctuation,' '*len(string.punctuation))).split(' ')\n",
    "    words = words + tokens"
   ]
  },
  {
   "cell_type": "code",
   "execution_count": 6,
   "id": "09d075e0",
   "metadata": {},
   "outputs": [],
   "source": [
    "# clean the wordslist\n",
    "vectorizer = CountVectorizer()\n",
    "vectorizer.fit(words)\n",
    "\n",
    "sentence_list = original['Sentence'].tolist()\n",
    "vector = vectorizer.transform(sentence_list)"
   ]
  },
  {
   "cell_type": "code",
   "execution_count": 7,
   "id": "12c936d1",
   "metadata": {},
   "outputs": [
    {
     "data": {
      "text/html": [
       "<div>\n",
       "<style scoped>\n",
       "    .dataframe tbody tr th:only-of-type {\n",
       "        vertical-align: middle;\n",
       "    }\n",
       "\n",
       "    .dataframe tbody tr th {\n",
       "        vertical-align: top;\n",
       "    }\n",
       "\n",
       "    .dataframe thead th {\n",
       "        text-align: right;\n",
       "    }\n",
       "</style>\n",
       "<table border=\"1\" class=\"dataframe\">\n",
       "  <thead>\n",
       "    <tr style=\"text-align: right;\">\n",
       "      <th></th>\n",
       "      <th>Sentence</th>\n",
       "      <th>Label</th>\n",
       "      <th>Count_Array</th>\n",
       "    </tr>\n",
       "  </thead>\n",
       "  <tbody>\n",
       "    <tr>\n",
       "      <th>0</th>\n",
       "      <td>So there is no way for me to plug it in here i...</td>\n",
       "      <td>0</td>\n",
       "      <td>[0, 0, 0, 0, 0, 0, 0, 0, 0, 0, 0, 0, 0, 0, 0, ...</td>\n",
       "    </tr>\n",
       "    <tr>\n",
       "      <th>1</th>\n",
       "      <td>Good case, Excellent value.</td>\n",
       "      <td>1</td>\n",
       "      <td>[0, 0, 0, 0, 0, 0, 0, 0, 0, 0, 0, 0, 0, 0, 0, ...</td>\n",
       "    </tr>\n",
       "    <tr>\n",
       "      <th>2</th>\n",
       "      <td>Great for the jawbone.</td>\n",
       "      <td>1</td>\n",
       "      <td>[0, 0, 0, 0, 0, 0, 0, 0, 0, 0, 0, 0, 0, 0, 0, ...</td>\n",
       "    </tr>\n",
       "    <tr>\n",
       "      <th>3</th>\n",
       "      <td>Tied to charger for conversations lasting more...</td>\n",
       "      <td>0</td>\n",
       "      <td>[0, 0, 0, 0, 0, 0, 0, 0, 0, 0, 0, 0, 0, 0, 0, ...</td>\n",
       "    </tr>\n",
       "    <tr>\n",
       "      <th>4</th>\n",
       "      <td>The mic is great.</td>\n",
       "      <td>1</td>\n",
       "      <td>[0, 0, 0, 0, 0, 0, 0, 0, 0, 0, 0, 0, 0, 0, 0, ...</td>\n",
       "    </tr>\n",
       "    <tr>\n",
       "      <th>...</th>\n",
       "      <td>...</td>\n",
       "      <td>...</td>\n",
       "      <td>...</td>\n",
       "    </tr>\n",
       "    <tr>\n",
       "      <th>2995</th>\n",
       "      <td>I think food should have flavor and texture an...</td>\n",
       "      <td>0</td>\n",
       "      <td>[0, 0, 0, 0, 0, 0, 0, 0, 0, 0, 0, 0, 0, 0, 0, ...</td>\n",
       "    </tr>\n",
       "    <tr>\n",
       "      <th>2996</th>\n",
       "      <td>Appetite instantly gone.</td>\n",
       "      <td>0</td>\n",
       "      <td>[0, 0, 0, 0, 0, 0, 0, 0, 0, 0, 0, 0, 0, 0, 0, ...</td>\n",
       "    </tr>\n",
       "    <tr>\n",
       "      <th>2997</th>\n",
       "      <td>Overall I was not impressed and would not go b...</td>\n",
       "      <td>0</td>\n",
       "      <td>[0, 0, 0, 0, 0, 0, 0, 0, 0, 0, 0, 0, 0, 0, 0, ...</td>\n",
       "    </tr>\n",
       "    <tr>\n",
       "      <th>2998</th>\n",
       "      <td>The whole experience was underwhelming, and I ...</td>\n",
       "      <td>0</td>\n",
       "      <td>[0, 0, 0, 0, 0, 0, 0, 0, 0, 0, 0, 0, 0, 0, 0, ...</td>\n",
       "    </tr>\n",
       "    <tr>\n",
       "      <th>2999</th>\n",
       "      <td>Then, as if I hadn't wasted enough of my life ...</td>\n",
       "      <td>0</td>\n",
       "      <td>[0, 0, 0, 0, 0, 0, 0, 0, 0, 0, 0, 0, 0, 0, 0, ...</td>\n",
       "    </tr>\n",
       "  </tbody>\n",
       "</table>\n",
       "<p>3000 rows × 3 columns</p>\n",
       "</div>"
      ],
      "text/plain": [
       "                                               Sentence  Label  \\\n",
       "0     So there is no way for me to plug it in here i...      0   \n",
       "1                           Good case, Excellent value.      1   \n",
       "2                                Great for the jawbone.      1   \n",
       "3     Tied to charger for conversations lasting more...      0   \n",
       "4                                     The mic is great.      1   \n",
       "...                                                 ...    ...   \n",
       "2995  I think food should have flavor and texture an...      0   \n",
       "2996                           Appetite instantly gone.      0   \n",
       "2997  Overall I was not impressed and would not go b...      0   \n",
       "2998  The whole experience was underwhelming, and I ...      0   \n",
       "2999  Then, as if I hadn't wasted enough of my life ...      0   \n",
       "\n",
       "                                            Count_Array  \n",
       "0     [0, 0, 0, 0, 0, 0, 0, 0, 0, 0, 0, 0, 0, 0, 0, ...  \n",
       "1     [0, 0, 0, 0, 0, 0, 0, 0, 0, 0, 0, 0, 0, 0, 0, ...  \n",
       "2     [0, 0, 0, 0, 0, 0, 0, 0, 0, 0, 0, 0, 0, 0, 0, ...  \n",
       "3     [0, 0, 0, 0, 0, 0, 0, 0, 0, 0, 0, 0, 0, 0, 0, ...  \n",
       "4     [0, 0, 0, 0, 0, 0, 0, 0, 0, 0, 0, 0, 0, 0, 0, ...  \n",
       "...                                                 ...  \n",
       "2995  [0, 0, 0, 0, 0, 0, 0, 0, 0, 0, 0, 0, 0, 0, 0, ...  \n",
       "2996  [0, 0, 0, 0, 0, 0, 0, 0, 0, 0, 0, 0, 0, 0, 0, ...  \n",
       "2997  [0, 0, 0, 0, 0, 0, 0, 0, 0, 0, 0, 0, 0, 0, 0, ...  \n",
       "2998  [0, 0, 0, 0, 0, 0, 0, 0, 0, 0, 0, 0, 0, 0, 0, ...  \n",
       "2999  [0, 0, 0, 0, 0, 0, 0, 0, 0, 0, 0, 0, 0, 0, 0, ...  \n",
       "\n",
       "[3000 rows x 3 columns]"
      ]
     },
     "execution_count": 7,
     "metadata": {},
     "output_type": "execute_result"
    }
   ],
   "source": [
    "original['Count_Array'] = pd.Series(vector.toarray().tolist())\n",
    "original"
   ]
  },
  {
   "cell_type": "markdown",
   "id": "c6aef84f",
   "metadata": {},
   "source": [
    "## 3. Feature Selection"
   ]
  },
  {
   "cell_type": "markdown",
   "id": "747860f4",
   "metadata": {},
   "source": [
    "### 3.1 Prune the word by selecting those whose count above medium"
   ]
  },
  {
   "cell_type": "code",
   "execution_count": 8,
   "id": "712410e0",
   "metadata": {},
   "outputs": [],
   "source": [
    "df = pd.DataFrame(index = np.arange(0,3000), columns = ['word','count'])\n",
    "\n",
    "word_countArray = vector.toarray()\n",
    "word_list = vectorizer.get_feature_names_out()\n",
    "\n",
    "for i in range(0, len(word_list)):\n",
    "    sum = 0\n",
    "    for j in range(0, len(original)):\n",
    "        sum += word_countArray[j][i]\n",
    "    df.loc[i] = [word_list[i], sum]"
   ]
  },
  {
   "cell_type": "code",
   "execution_count": 9,
   "id": "c166d053",
   "metadata": {
    "scrolled": true
   },
   "outputs": [
    {
     "data": {
      "text/plain": [
       "1"
      ]
     },
     "execution_count": 9,
     "metadata": {},
     "output_type": "execute_result"
    }
   ],
   "source": [
    "# find medium\n",
    "df_med = df.sort_values(by = 'count', ascending=False)\n",
    "df_med = df_med.reset_index(drop=True)\n",
    "\n",
    "if len(df)%2 == 0:\n",
    "    medium1 = df_med['count'][len(df_med)/2]\n",
    "    medium2 = df_med['count'][len(df_med)/2 + 1]\n",
    "    medium = (medium1 + medium2)/2\n",
    "else:\n",
    "    medium = df_med['count'][(len(df_med) + 1)/2]\n",
    "\n",
    "medium"
   ]
  },
  {
   "cell_type": "markdown",
   "id": "01c3721d",
   "metadata": {},
   "source": [
    "### 3.2 Prune the word by selecting those whose count above average"
   ]
  },
  {
   "cell_type": "code",
   "execution_count": 10,
   "id": "ab25a8ee",
   "metadata": {},
   "outputs": [],
   "source": [
    "# since the medium count is 1 which does not make sense if we prune by it, we prune by the average instead\n",
    "avg = round(df['count'].sum()/len(df))\n",
    "df_prune = df[df['count']>avg]"
   ]
  },
  {
   "cell_type": "code",
   "execution_count": 11,
   "id": "c05b9f54",
   "metadata": {},
   "outputs": [
    {
     "data": {
      "text/plain": [
       "array([[0, 0, 0, ..., 0, 0, 0],\n",
       "       [0, 0, 0, ..., 0, 0, 0],\n",
       "       [0, 0, 0, ..., 0, 0, 0],\n",
       "       ...,\n",
       "       [0, 0, 0, ..., 0, 0, 0],\n",
       "       [0, 0, 0, ..., 0, 0, 0],\n",
       "       [0, 0, 0, ..., 0, 0, 0]])"
      ]
     },
     "execution_count": 11,
     "metadata": {},
     "output_type": "execute_result"
    }
   ],
   "source": [
    "vectorizer_p = CountVectorizer()\n",
    "vectorizer_p.fit(df_prune['word'])\n",
    "\n",
    "sentence_list = original['Sentence'].tolist()\n",
    "vector_prune = vectorizer_p.transform(sentence_list)\n",
    "\n",
    "word_countArray_p = vector_prune.toarray()\n",
    "word_countArray_p"
   ]
  },
  {
   "cell_type": "markdown",
   "id": "be6f8ea5",
   "metadata": {},
   "source": [
    "## 4. Data Preprocessing for Model"
   ]
  },
  {
   "cell_type": "markdown",
   "id": "92bba5dd",
   "metadata": {},
   "source": [
    "### 4.1 Original Data"
   ]
  },
  {
   "cell_type": "code",
   "execution_count": 12,
   "id": "401b9202",
   "metadata": {},
   "outputs": [],
   "source": [
    "X = word_countArray\n",
    "y = original['Label']\n",
    "\n",
    "from sklearn.model_selection import train_test_split\n",
    "X_train, X_remain, y_train, y_remain = train_test_split(X, y, test_size=0.3)\n",
    "X_test, X_valid, y_test, y_valid = train_test_split(X_remain, y_remain, test_size=0.5)\n",
    "\n",
    "train_set = pd.DataFrame(columns=['Count_Array','Label'])\n",
    "train_set['Count_Array'] = pd.Series(X_train.tolist())\n",
    "train_set['Label'] = pd.Series(y_train.reset_index(drop=True))\n",
    "\n",
    "test_set = pd.DataFrame(columns=['Count_Array','Label'])\n",
    "test_set['Count_Array'] = pd.Series(X_test.tolist())\n",
    "test_set['Label'] = pd.Series(y_test.reset_index(drop=True))"
   ]
  },
  {
   "cell_type": "markdown",
   "id": "51d4cc28",
   "metadata": {},
   "source": [
    "### 4.2 Pruned Data"
   ]
  },
  {
   "cell_type": "code",
   "execution_count": 13,
   "id": "e6a1d19a",
   "metadata": {},
   "outputs": [],
   "source": [
    "# split the data\n",
    "Xp = word_countArray_p\n",
    "yp = original['Label']\n",
    "\n",
    "Xp_train, Xp_remain, yp_train, yp_remain = train_test_split(Xp, yp, test_size=0.3)\n",
    "Xp_test, Xp_valid, yp_test, yp_valid = train_test_split(Xp_remain, yp_remain, test_size=0.5)\n",
    "\n",
    "train_set_p = pd.DataFrame(columns=['Count_Array','Label'])\n",
    "train_set_p['Count_Array'] = pd.Series(Xp_train.tolist())\n",
    "train_set_p['Label'] = pd.Series(yp_train.reset_index(drop=True))\n",
    "\n",
    "test_set_p = pd.DataFrame(columns=['Count_Array','Label'])\n",
    "test_set_p['Count_Array'] = pd.Series(Xp_test.tolist())\n",
    "test_set_p['Label'] = pd.Series(yp_test.reset_index(drop=True))"
   ]
  },
  {
   "cell_type": "markdown",
   "id": "3eefb4c0",
   "metadata": {},
   "source": [
    "## 5. Model Building"
   ]
  },
  {
   "cell_type": "markdown",
   "id": "34c3f077",
   "metadata": {},
   "source": [
    "### 5.1 Implement of Naive Bayes Model"
   ]
  },
  {
   "cell_type": "code",
   "execution_count": 14,
   "id": "f8a1e051",
   "metadata": {},
   "outputs": [],
   "source": [
    "from sklearn.metrics import classification_report\n",
    "import time"
   ]
  },
  {
   "cell_type": "code",
   "execution_count": 15,
   "id": "2591ef66",
   "metadata": {},
   "outputs": [],
   "source": [
    "def word_count(word_list, df):\n",
    "    wordCount = pd.DataFrame(columns = ['word','count'])\n",
    "\n",
    "    for i in range(0, len(word_list)):\n",
    "        sum = 0\n",
    "        for j in range(0, len(df)):\n",
    "            sum += df['Count_Array'].iloc[j][i]\n",
    "        sum += 1\n",
    "        wordCount.loc[i] = [word_list[i], sum]\n",
    "    return wordCount"
   ]
  },
  {
   "cell_type": "code",
   "execution_count": 16,
   "id": "f95ea5d6",
   "metadata": {},
   "outputs": [],
   "source": [
    "def probXYY(X_test, word_list, wordCount, Py):\n",
    "    allCounts = wordCount['count'].sum()\n",
    "    probility = []\n",
    "    for i in range(0, len(X_test)):\n",
    "        prod = 1\n",
    "        for j in range(0, len(word_list)): \n",
    "            if X_test.iloc[i][j]!=0:\n",
    "                currentWord_count = wordCount['count'][j]\n",
    "                prod *= (currentWord_count/allCounts)\n",
    "        probility.append(prod*Py)\n",
    "    return(probility)"
   ]
  },
  {
   "cell_type": "code",
   "execution_count": 100,
   "id": "371f9c06",
   "metadata": {},
   "outputs": [],
   "source": [
    "def predict(prob_posXYY, prob_negXYY):\n",
    "    pred_result = []\n",
    "    \n",
    "    for i in range(0, len(prob_posXYY)):\n",
    "        if prob_posXYY[i] >= prob_negXYY[i]:\n",
    "            pred_result.append(1)\n",
    "        else:\n",
    "            pred_result.append(0)\n",
    "    return pred_result"
   ]
  },
  {
   "cell_type": "code",
   "execution_count": 96,
   "id": "35725e5e",
   "metadata": {},
   "outputs": [],
   "source": [
    "def classification(pred_result, test_set):\n",
    "    \n",
    "    TP = 0\n",
    "    TN = 0\n",
    "    FP = 0\n",
    "    FN = 0\n",
    "    \n",
    "    y_test = test_set['Label']\n",
    "    \n",
    "    for i in range(0, len(y_test)):\n",
    "        if pred_result[i] == 1 and y_test.iloc[i] == 1:\n",
    "            TP += 1\n",
    "        elif pred_result[i] == 0 and y_test.iloc[i] == 0:\n",
    "            TN += 1\n",
    "        elif pred_result[i] == 1 and y_test.iloc[i] == 0:\n",
    "            FP += 1\n",
    "        else:\n",
    "            FN += 1\n",
    "    \n",
    "    data = [[TP, FP],[FN, TN]]\n",
    "    confusion_matrix = pd.DataFrame(data, index = ['Predictedly Positive','Predictedly Negative'], columns=['Actually Positive','Actually Negative'])\n",
    "    return confusion_matrix"
   ]
  },
  {
   "cell_type": "code",
   "execution_count": 99,
   "id": "0e4319ae",
   "metadata": {},
   "outputs": [],
   "source": [
    "def NaiveBayes(word_list, train_set, test_set):\n",
    "    \n",
    "    # (1) Train the model\n",
    "    # split the data into 2 categories: pos & neg\n",
    "    pos = train_set[train_set['Label']==1].reset_index(drop=True)\n",
    "    neg = train_set[train_set['Label']==0].reset_index(drop=True)\n",
    "    \n",
    "    wordCount_pos = word_count(word_list, pos)\n",
    "    wordCount_neg = word_count(word_list, neg)\n",
    "    \n",
    "    # (2) Test the data\n",
    "    \n",
    "    # P(Y|X) = P(X|Y)*P(Y)/(P(X))\n",
    "    # Since P(X) is the same no matter classification, we only need to calculate P(X|Y)*(P(Y)) for comparison by P(Y|X)\n",
    "   \n",
    "    # calculate the P(Y)\n",
    "    p_pos = len(pos)/(len(train_set))\n",
    "    p_neg = len(neg)/(len(train_set))\n",
    "    \n",
    "    # calculate the P(X|Y)*P(Y)\n",
    "    X_test = test_set['Count_Array']\n",
    "    prob_posXYY = probXYY(X_test, word_list, wordCount_pos, p_pos)\n",
    "    prob_negXYY = probXYY(X_test, word_list, wordCount_neg, p_neg)\n",
    "    \n",
    "    # classification through comparision\n",
    "    prediction = predict(prob_posXYY, prob_negXYY)\n",
    "    return prediction"
   ]
  },
  {
   "cell_type": "markdown",
   "id": "cd0bc1fe",
   "metadata": {},
   "source": [
    "### 5.2 Original Data"
   ]
  },
  {
   "cell_type": "markdown",
   "id": "3dc23863",
   "metadata": {},
   "source": [
    "#### 5.2.1.1 Naive Bayes - check the implement of Naive Bayes Model"
   ]
  },
  {
   "cell_type": "code",
   "execution_count": 103,
   "id": "0b72dfe0",
   "metadata": {},
   "outputs": [
    {
     "data": {
      "text/plain": [
       "0.84"
      ]
     },
     "execution_count": 103,
     "metadata": {},
     "output_type": "execute_result"
    }
   ],
   "source": [
    "prediction = NaiveBayes(word_list, train_set, test_set)\n",
    "result = classification(prediction, test_set)\n",
    "Accuracy = (result['Actually Positive'][0]+result['Actually Negative'][1])/len(test_set)\n",
    "Accuracy"
   ]
  },
  {
   "cell_type": "markdown",
   "id": "46e1700b",
   "metadata": {},
   "source": [
    "#### 5.2.1.2 Naive Bayes - for checking"
   ]
  },
  {
   "cell_type": "code",
   "execution_count": 32,
   "id": "af9eae2f",
   "metadata": {},
   "outputs": [],
   "source": [
    "import time"
   ]
  },
  {
   "cell_type": "code",
   "execution_count": 33,
   "id": "8673bec9",
   "metadata": {},
   "outputs": [
    {
     "name": "stdout",
     "output_type": "stream",
     "text": [
      "[[188  32]\n",
      " [ 43 187]]\n",
      "              precision    recall  f1-score   support\n",
      "\n",
      "           0       0.81      0.85      0.83       220\n",
      "           1       0.85      0.81      0.83       230\n",
      "\n",
      "    accuracy                           0.83       450\n",
      "   macro avg       0.83      0.83      0.83       450\n",
      "weighted avg       0.83      0.83      0.83       450\n",
      "\n",
      "---Accuracy: 0.8333333333333334 ---\n",
      "---training: 0.28226518630981445 seconds ---\n",
      "---testing: 0.04557085037231445 seconds ---\n"
     ]
    }
   ],
   "source": [
    "from sklearn.naive_bayes import MultinomialNB\n",
    "\n",
    "start_time = time.time()\n",
    "nb = MultinomialNB()\n",
    "nb.fit(X_train, y_train)\n",
    "time_train_nb = (time.time() - start_time)\n",
    "\n",
    "start_time = time.time()\n",
    "predictions = nb.predict(X_test)\n",
    "time_test_nb = (time.time() - start_time)\n",
    "\n",
    "from sklearn.metrics import classification_report,confusion_matrix\n",
    "confMatrix_nb = confusion_matrix(y_test,predictions)\n",
    "accuracy_nb = (confMatrix_nb[0][0]+confMatrix_nb[1][1])/len(X_test)\n",
    "\n",
    "print(confusion_matrix(y_test, predictions))\n",
    "print(classification_report(y_test, predictions))\n",
    "print(\"---Accuracy: %s ---\" % accuracy_nb)\n",
    "print(\"---training: %s seconds ---\" % time_train_nb)\n",
    "print(\"---testing: %s seconds ---\" % time_test_nb)"
   ]
  },
  {
   "cell_type": "markdown",
   "id": "568553cf",
   "metadata": {},
   "source": [
    "\n",
    "#### 5.2.2 Decision Tree"
   ]
  },
  {
   "cell_type": "code",
   "execution_count": 34,
   "id": "6af3bdbd",
   "metadata": {},
   "outputs": [
    {
     "name": "stdout",
     "output_type": "stream",
     "text": [
      "              precision    recall  f1-score   support\n",
      "\n",
      "           0       0.74      0.80      0.76       220\n",
      "           1       0.79      0.73      0.76       230\n",
      "\n",
      "    accuracy                           0.76       450\n",
      "   macro avg       0.76      0.76      0.76       450\n",
      "weighted avg       0.76      0.76      0.76       450\n",
      "\n",
      "---Accuracy: 0.76 ---\n",
      "---training: 3.5158770084381104 seconds ---\n",
      "---testing: 0.007216930389404297 seconds ---\n"
     ]
    }
   ],
   "source": [
    "from sklearn.tree import DecisionTreeClassifier\n",
    "\n",
    "start_time = time.time()\n",
    "dtree = DecisionTreeClassifier()\n",
    "dtree.fit(X_train, y_train)\n",
    "time_train_dt = (time.time() - start_time)\n",
    "\n",
    "start_time = time.time()\n",
    "predictions = dtree.predict(X_test)\n",
    "time_test_dt = (time.time() - start_time)\n",
    "\n",
    "confMatrix_dt = confusion_matrix(y_test,predictions)\n",
    "accuracy_dt = (confMatrix_dt[0][0]+confMatrix_dt[1][1])/len(X_test)\n",
    "print(classification_report(y_test, predictions))\n",
    "\n",
    "print(\"---Accuracy: %s ---\" % accuracy_dt)\n",
    "print(\"---training: %s seconds ---\" % time_train_dt)\n",
    "print(\"---testing: %s seconds ---\" % time_test_dt)"
   ]
  },
  {
   "cell_type": "markdown",
   "id": "31dcc811",
   "metadata": {},
   "source": [
    "#### 5.2.3 KNN"
   ]
  },
  {
   "cell_type": "code",
   "execution_count": 35,
   "id": "e93aec9a",
   "metadata": {},
   "outputs": [
    {
     "name": "stdout",
     "output_type": "stream",
     "text": [
      "              precision    recall  f1-score   support\n",
      "\n",
      "           0       0.58      0.80      0.67       220\n",
      "           1       0.70      0.45      0.55       230\n",
      "\n",
      "    accuracy                           0.62       450\n",
      "   macro avg       0.64      0.62      0.61       450\n",
      "weighted avg       0.64      0.62      0.61       450\n",
      "\n",
      "---Accuracy: 0.62 ---\n",
      "---training: 0.007055997848510742 seconds ---\n",
      "---testing: 0.31861400604248047 seconds ---\n"
     ]
    }
   ],
   "source": [
    "from sklearn.neighbors import KNeighborsClassifier\n",
    "knn = KNeighborsClassifier(n_neighbors=2)\n",
    "\n",
    "start_time = time.time()\n",
    "knn.fit(X_train, y_train)\n",
    "time_train_knn = (time.time() - start_time)\n",
    "\n",
    "start_time = time.time()\n",
    "predictions = knn.predict(X_test)\n",
    "time_test_knn = (time.time() - start_time)\n",
    "\n",
    "confMatrix_knn = confusion_matrix(y_test,predictions)\n",
    "accuracy_knn = (confMatrix_knn[0][0]+confMatrix_knn[1][1])/len(X_test)\n",
    "print(classification_report(y_test, predictions))\n",
    "\n",
    "print(\"---Accuracy: %s ---\" % accuracy_knn)\n",
    "print(\"---training: %s seconds ---\" % time_train_knn)\n",
    "print(\"---testing: %s seconds ---\" % time_test_knn)"
   ]
  },
  {
   "cell_type": "markdown",
   "id": "cae5f960",
   "metadata": {},
   "source": [
    "#### 5.2.4 SVM"
   ]
  },
  {
   "cell_type": "code",
   "execution_count": 36,
   "id": "88ee5f52",
   "metadata": {},
   "outputs": [
    {
     "name": "stdout",
     "output_type": "stream",
     "text": [
      "              precision    recall  f1-score   support\n",
      "\n",
      "           0       0.75      0.86      0.80       220\n",
      "           1       0.84      0.73      0.78       230\n",
      "\n",
      "    accuracy                           0.79       450\n",
      "   macro avg       0.80      0.79      0.79       450\n",
      "weighted avg       0.80      0.79      0.79       450\n",
      "\n",
      "---Accuracy: 0.7933333333333333 ---\n",
      "---training: 11.59023904800415 seconds ---\n",
      "---testing: 8.071463823318481 seconds ---\n"
     ]
    }
   ],
   "source": [
    "from sklearn.svm import SVC\n",
    "svm = SVC()\n",
    "\n",
    "start_time = time.time()\n",
    "svm.fit(X_train, y_train)\n",
    "time_train_svm = (time.time() - start_time)\n",
    "\n",
    "start_time = time.time()\n",
    "predictions = svm.predict(X_test)\n",
    "time_test_svm = (time.time() - start_time)\n",
    "\n",
    "confMatrix_svm = confusion_matrix(y_test,predictions)\n",
    "accuracy_svm = (confMatrix_svm[0][0]+confMatrix_svm[1][1])/len(X_test)\n",
    "\n",
    "print(classification_report(y_test, predictions))\n",
    "print(\"---Accuracy: %s ---\" % accuracy_svm)\n",
    "print(\"---training: %s seconds ---\" % time_train_svm)\n",
    "print(\"---testing: %s seconds ---\" % time_test_svm)"
   ]
  },
  {
   "cell_type": "markdown",
   "id": "a60adaaf",
   "metadata": {},
   "source": [
    "### 5.3 Pruned Data"
   ]
  },
  {
   "cell_type": "markdown",
   "id": "d2fed2c1",
   "metadata": {},
   "source": [
    "#### 5.3.1 Naive Bayes - check the implement of Naive Bayes Model"
   ]
  },
  {
   "cell_type": "code",
   "execution_count": 106,
   "id": "57e94447",
   "metadata": {},
   "outputs": [
    {
     "data": {
      "text/plain": [
       "0.7955555555555556"
      ]
     },
     "execution_count": 106,
     "metadata": {},
     "output_type": "execute_result"
    }
   ],
   "source": [
    "prediction_p = NaiveBayes(word_list, train_set_p, test_set_p)\n",
    "result_p = classification(prediction_p, test_set_p)\n",
    "Accuracy_p = (result_p['Actually Positive'][0]+result_p['Actually Negative'][1])/len(test_set)\n",
    "Accuracy_p"
   ]
  },
  {
   "cell_type": "markdown",
   "id": "e078e1bd",
   "metadata": {},
   "source": [
    "#### 5.3.1.2 Naive Bayes - for checking"
   ]
  },
  {
   "cell_type": "code",
   "execution_count": 39,
   "id": "b27142dc",
   "metadata": {},
   "outputs": [
    {
     "name": "stdout",
     "output_type": "stream",
     "text": [
      "              precision    recall  f1-score   support\n",
      "\n",
      "           0       0.80      0.79      0.79       221\n",
      "           1       0.80      0.81      0.81       229\n",
      "\n",
      "    accuracy                           0.80       450\n",
      "   macro avg       0.80      0.80      0.80       450\n",
      "weighted avg       0.80      0.80      0.80       450\n",
      "\n",
      "---Accuracy: 0.8 ---\n",
      "---training: 0.2897200584411621 seconds ---\n",
      "---testing: 0.03202509880065918 seconds ---\n"
     ]
    }
   ],
   "source": [
    "nb = MultinomialNB()\n",
    "\n",
    "start_time = time.time()\n",
    "nb.fit(Xp_train, yp_train)\n",
    "time_trainp_nb = (time.time() - start_time)\n",
    "\n",
    "start_time = time.time()\n",
    "predictions = nb.predict(Xp_test)\n",
    "time_testp_nb = (time.time() - start_time)\n",
    "\n",
    "\n",
    "confMatrixp_nb = confusion_matrix(yp_test,predictions)\n",
    "accuracyp_nb = (confMatrixp_nb[0][0]+confMatrixp_nb[1][1])/len(Xp_test)\n",
    "print(classification_report(yp_test, predictions))\n",
    "\n",
    "print(\"---Accuracy: %s ---\" % accuracyp_nb)\n",
    "print(\"---training: %s seconds ---\" % time_trainp_nb)\n",
    "print(\"---testing: %s seconds ---\" % time_testp_nb)"
   ]
  },
  {
   "cell_type": "markdown",
   "id": "eccb6f9c",
   "metadata": {},
   "source": [
    "#### 5.3.2 Decision Tree"
   ]
  },
  {
   "cell_type": "code",
   "execution_count": 40,
   "id": "6139c089",
   "metadata": {
    "scrolled": true
   },
   "outputs": [
    {
     "name": "stdout",
     "output_type": "stream",
     "text": [
      "              precision    recall  f1-score   support\n",
      "\n",
      "           0       0.70      0.72      0.71       221\n",
      "           1       0.72      0.70      0.71       229\n",
      "\n",
      "    accuracy                           0.71       450\n",
      "   macro avg       0.71      0.71      0.71       450\n",
      "weighted avg       0.71      0.71      0.71       450\n",
      "\n",
      "---Accuracy: 0.76 ---\n",
      "---training: 2.012212038040161 seconds ---\n",
      "---testing: 0.007369041442871094 seconds ---\n"
     ]
    }
   ],
   "source": [
    "dtree = DecisionTreeClassifier()\n",
    "\n",
    "start_time = time.time()\n",
    "dtree.fit(Xp_train, yp_train)\n",
    "time_trainp_dt = (time.time() - start_time)\n",
    "\n",
    "start_time = time.time()\n",
    "predictions = dtree.predict(Xp_test)\n",
    "time_testp_dt = (time.time() - start_time)\n",
    "\n",
    "confMatrixp_dt = confusion_matrix(yp_test,predictions)\n",
    "accuracyp_dt = (confMatrixp_dt[0][0]+confMatrixp_dt[1][1])/len(Xp_test)\n",
    "print(classification_report(yp_test, predictions))\n",
    "\n",
    "print(\"---Accuracy: %s ---\" % accuracy_dt)\n",
    "print(\"---training: %s seconds ---\" % time_trainp_dt)\n",
    "print(\"---testing: %s seconds ---\" % time_testp_dt)"
   ]
  },
  {
   "cell_type": "markdown",
   "id": "48f895e1",
   "metadata": {},
   "source": [
    "#### 5.3.3 KNN"
   ]
  },
  {
   "cell_type": "code",
   "execution_count": 41,
   "id": "f583537e",
   "metadata": {},
   "outputs": [
    {
     "name": "stdout",
     "output_type": "stream",
     "text": [
      "              precision    recall  f1-score   support\n",
      "\n",
      "           0       0.89      0.93      0.91       221\n",
      "           1       0.93      0.89      0.91       229\n",
      "\n",
      "    accuracy                           0.91       450\n",
      "   macro avg       0.91      0.91      0.91       450\n",
      "weighted avg       0.91      0.91      0.91       450\n",
      "\n",
      "---Accuracy: 0.9111111111111111 ---\n",
      "---training: 0.009019136428833008 seconds ---\n",
      "---testing: 7.659377813339233 seconds ---\n"
     ]
    }
   ],
   "source": [
    "knn = KNeighborsClassifier(n_neighbors=2)\n",
    "\n",
    "start_time = time.time()\n",
    "knn.fit(Xp_train, yp_train)\n",
    "time_trainp_knn = (time.time() - start_time)\n",
    "\n",
    "start_time = time.time()\n",
    "predictions = svm.predict(Xp_test)\n",
    "time_testp_knn = (time.time() - start_time)\n",
    "\n",
    "confMatrixp_knn = confusion_matrix(yp_test,predictions)\n",
    "accuracyp_knn = (confMatrixp_knn[0][0]+confMatrixp_knn[1][1])/len(Xp_test)\n",
    "print(classification_report(yp_test, predictions))\n",
    "\n",
    "print(\"---Accuracy: %s ---\" % accuracyp_knn)\n",
    "print(\"---training: %s seconds ---\" % time_trainp_knn)\n",
    "print(\"---testing: %s seconds ---\" % time_testp_knn)"
   ]
  },
  {
   "cell_type": "markdown",
   "id": "99e0a355",
   "metadata": {},
   "source": [
    "#### 5.3.4 SVM"
   ]
  },
  {
   "cell_type": "code",
   "execution_count": 42,
   "id": "fc935119",
   "metadata": {},
   "outputs": [
    {
     "name": "stdout",
     "output_type": "stream",
     "text": [
      "              precision    recall  f1-score   support\n",
      "\n",
      "           0       0.76      0.77      0.76       221\n",
      "           1       0.77      0.76      0.77       229\n",
      "\n",
      "    accuracy                           0.77       450\n",
      "   macro avg       0.77      0.77      0.77       450\n",
      "weighted avg       0.77      0.77      0.77       450\n",
      "\n",
      "---Accuracy: 0.7666666666666667 ---\n",
      "---training: 11.247905969619751 seconds ---\n",
      "---testing: 7.760913848876953 seconds ---\n"
     ]
    }
   ],
   "source": [
    "svm = SVC()\n",
    "\n",
    "start_time = time.time()\n",
    "svm.fit(Xp_train, yp_train)\n",
    "time_trainp_svm = (time.time() - start_time)\n",
    "\n",
    "start_time = time.time()\n",
    "predictions = svm.predict(Xp_test)\n",
    "time_testp_svm = (time.time() - start_time)\n",
    "\n",
    "confMatrixp_svm = confusion_matrix(yp_test,predictions)\n",
    "accuracyp_svm = (confMatrixp_svm[0][0]+confMatrixp_svm[1][1])/len(Xp_test)\n",
    "print(classification_report(yp_test, predictions))\n",
    "\n",
    "print(\"---Accuracy: %s ---\" % accuracyp_svm)\n",
    "print(\"---training: %s seconds ---\" % time_trainp_svm)\n",
    "print(\"---testing: %s seconds ---\" % time_testp_svm)"
   ]
  },
  {
   "cell_type": "markdown",
   "id": "0d3e38ba",
   "metadata": {},
   "source": [
    "## 6. Comparision"
   ]
  },
  {
   "cell_type": "markdown",
   "id": "f6e0bf84",
   "metadata": {},
   "source": [
    "### 6.1 Compare Accuracy"
   ]
  },
  {
   "cell_type": "code",
   "execution_count": 43,
   "id": "db925910",
   "metadata": {},
   "outputs": [],
   "source": [
    "import seaborn as sns\n",
    "import matplotlib.pyplot as plt"
   ]
  },
  {
   "cell_type": "code",
   "execution_count": 56,
   "id": "cf0bc2eb",
   "metadata": {},
   "outputs": [
    {
     "data": {
      "text/plain": [
       "(0.0, 1.0)"
      ]
     },
     "execution_count": 56,
     "metadata": {},
     "output_type": "execute_result"
    },
    {
     "data": {
      "image/png": "[encoded data removed]",
      "text/plain": [
       "<Figure size 432x288 with 1 Axes>"
      ]
     },
     "metadata": {
      "needs_background": "light"
     },
     "output_type": "display_data"
    }
   ],
   "source": [
    "# Compare Accuracy under different models\n",
    "models = ['Naive Bayes','Decision Tree','KNN','SVM','Naive Bayes','Decision Tree','KNN','SVM']\n",
    "accuracy = [accuracy_nb, accuracy_dt, accuracy_knn, accuracy_svm, accuracyp_nb, accuracyp_dt, accuracyp_knn, accuracyp_svm]\n",
    "dataset=['original','original','original','original','Not original','Not original','Not original','Not original']\n",
    "sns.barplot(x = models, y = accuracy, hue = dataset)\n",
    "plt.ylim(0, 1)"
   ]
  },
  {
   "cell_type": "raw",
   "id": "93f877e6",
   "metadata": {},
   "source": [
    "# Comment:\n",
    "# I used Accuracy as the metric to see the performance of each model. \n",
    "\n",
    "# It is noted that, \n",
    "# For the original data, Naive Bayes has the best performance. The accuracy is around 83%.\n",
    "# For the Pruned data, the KNN has the best performance. The accuracy is around 91%.\n",
    "\n",
    "# Also, we can see that the feature selection actually decreases the accuracy a little bit, except under the KNN model, which increases around 50% of the accuracy after pruning."
   ]
  },
  {
   "cell_type": "markdown",
   "id": "f9327b6f",
   "metadata": {},
   "source": [
    "### 6.2 Compare Efficiency Cost"
   ]
  },
  {
   "cell_type": "code",
   "execution_count": 57,
   "id": "296a59b3",
   "metadata": {
    "scrolled": true
   },
   "outputs": [
    {
     "data": {
      "text/plain": [
       "<AxesSubplot:>"
      ]
     },
     "execution_count": 57,
     "metadata": {},
     "output_type": "execute_result"
    },
    {
     "data": {
      "image/png": "[encoded data removed]",
      "text/plain": [
       "<Figure size 432x288 with 1 Axes>"
      ]
     },
     "metadata": {
      "needs_background": "light"
     },
     "output_type": "display_data"
    }
   ],
   "source": [
    "# Compare offline efficiency cost \n",
    "models = ['Naive Bayes','Decision Tree','KNN','SVM','Naive Bayes','Decision Tree','KNN','SVM']\n",
    "efficiency_cost_offline = [time_train_nb,time_train_dt, time_train_knn, time_train_svm, time_trainp_nb,time_trainp_dt, time_trainp_knn, time_trainp_svm]\n",
    "dataset=['original','original','original','original','Not original','Not original','Not original','Not original']\n",
    "sns.barplot(x = models, y = efficiency_cost_offline, hue = dataset)"
   ]
  },
  {
   "cell_type": "code",
   "execution_count": 58,
   "id": "7ad7cdc5",
   "metadata": {},
   "outputs": [
    {
     "data": {
      "text/plain": [
       "<AxesSubplot:>"
      ]
     },
     "execution_count": 58,
     "metadata": {},
     "output_type": "execute_result"
    },
    {
     "data": {
      "image/png": "[encoded data removed]",
      "text/plain": [
       "<Figure size 432x288 with 1 Axes>"
      ]
     },
     "metadata": {
      "needs_background": "light"
     },
     "output_type": "display_data"
    }
   ],
   "source": [
    "models = ['Naive Bayes', 'Naive Bayes', 'KNN','KNN']\n",
    "efficiency_cost_offline = [time_train_nb, time_trainp_nb, time_train_knn, time_trainp_knn]\n",
    "dataset=['original','Not original','original','Not original']\n",
    "sns.barplot(x = models, y = efficiency_cost_offline, hue = dataset)"
   ]
  },
  {
   "cell_type": "raw",
   "id": "357a6021",
   "metadata": {},
   "source": [
    "# Comment:\n",
    "# It is noted that KNN has the lowest offline efficiency cost no matter for the Original data or the Pruned data, while SVM has the highest offline efficiency cost, which is far more than the offline efficiency cost of the rest models.\n",
    "\n",
    "# We can see that the feature selection decreases the offline efficiency cost when we use the Decision Tree and SVM, but increases the the offline efficiency cost when we use the KNN. And there is not a big difference for the Naive Bayes."
   ]
  },
  {
   "cell_type": "code",
   "execution_count": 59,
   "id": "d80589d0",
   "metadata": {},
   "outputs": [
    {
     "data": {
      "text/plain": [
       "<AxesSubplot:>"
      ]
     },
     "execution_count": 59,
     "metadata": {},
     "output_type": "execute_result"
    },
    {
     "data": {
      "image/png": "[encoded data removed]",
      "text/plain": [
       "<Figure size 432x288 with 1 Axes>"
      ]
     },
     "metadata": {
      "needs_background": "light"
     },
     "output_type": "display_data"
    }
   ],
   "source": [
    "# Compare online efficiency cost \n",
    "models = ['Naive Bayes','Decision Tree','KNN','SVM','Naive Bayes','Decision Tree','KNN','SVM']\n",
    "efficiency_cost_online = [time_test_nb,time_test_dt, time_test_knn, time_test_svm, time_testp_nb,time_testp_dt, time_testp_knn, time_testp_svm]\n",
    "dataset=['original','original','original','original','Not original','Not original','Not original','Not original']\n",
    "sns.barplot(x = models, y = efficiency_cost_online, hue = dataset)"
   ]
  },
  {
   "cell_type": "code",
   "execution_count": 60,
   "id": "e33da328",
   "metadata": {},
   "outputs": [
    {
     "data": {
      "text/plain": [
       "<AxesSubplot:>"
      ]
     },
     "execution_count": 60,
     "metadata": {},
     "output_type": "execute_result"
    },
    {
     "data": {
      "image/png": "[encoded data removed]",
      "text/plain": [
       "<Figure size 432x288 with 1 Axes>"
      ]
     },
     "metadata": {
      "needs_background": "light"
     },
     "output_type": "display_data"
    }
   ],
   "source": [
    "models = ['Naive Bayes','Decision Tree','Naive Bayes','Decision Tree']\n",
    "efficiency_cost_online = [time_test_nb, time_test_dt, time_testp_nb,time_testp_dt]\n",
    "dataset=['original','original','Not original','Not original']\n",
    "sns.barplot(x = models, y = efficiency_cost_online, hue = dataset)"
   ]
  },
  {
   "cell_type": "raw",
   "id": "30584f52",
   "metadata": {},
   "source": [
    "# Comment:\n",
    "# We can see that Decision Tree has the lowest online efficiency cost no matter for Original data or Pruned data, while the SVM has the highest online efficiency cost.\n",
    "\n",
    "# We can see that the feature selection decreases the online efficiency cost when we use the Naive Bayes and SVM, but increases the the online efficiency cost quite a lot when we use the KNN. And there is not a big difference for the Decision Tree."
   ]
  },
  {
   "cell_type": "code",
   "execution_count": 61,
   "id": "952d8ead",
   "metadata": {
    "scrolled": true
   },
   "outputs": [
    {
     "data": {
      "text/plain": [
       "<AxesSubplot:>"
      ]
     },
     "execution_count": 61,
     "metadata": {},
     "output_type": "execute_result"
    },
    {
     "data": {
      "image/png": "[encoded data removed]",
      "text/plain": [
       "<Figure size 432x288 with 1 Axes>"
      ]
     },
     "metadata": {
      "needs_background": "light"
     },
     "output_type": "display_data"
    }
   ],
   "source": [
    "# Compare overall efficiency cost \n",
    "models = ['Naive Bayes','Decision Tree','KNN','SVM','Naive Bayes','Decision Tree','KNN','SVM']\n",
    "time_nb = time_train_nb + time_test_nb\n",
    "time_dt = time_train_dt + time_test_dt\n",
    "time_knn = time_train_knn + time_test_knn\n",
    "time_svm = time_train_svm + time_test_svm\n",
    "timep_nb = time_trainp_nb + time_testp_nb\n",
    "timep_dt = time_trainp_dt + time_testp_dt\n",
    "timep_knn = time_trainp_knn + time_testp_knn\n",
    "timep_svm = time_trainp_svm + time_testp_svm\n",
    "efficiency_cost = [time_nb,time_dt, time_knn, time_svm, timep_nb,timep_dt, timep_knn, timep_svm]\n",
    "dataset=['original','original','original','original','Not original','Not original','Not original','Not original']\n",
    "sns.barplot(x = models, y = efficiency_cost, hue = dataset)"
   ]
  },
  {
   "cell_type": "code",
   "execution_count": 107,
   "id": "7ffd5638",
   "metadata": {},
   "outputs": [
    {
     "data": {
      "text/plain": [
       "<AxesSubplot:>"
      ]
     },
     "execution_count": 107,
     "metadata": {},
     "output_type": "execute_result"
    },
    {
     "data": {
      "image/png": "[encoded data removed]",
      "text/plain": [
       "<Figure size 432x288 with 1 Axes>"
      ]
     },
     "metadata": {
      "needs_background": "light"
     },
     "output_type": "display_data"
    }
   ],
   "source": [
    "models = ['Naive Bayes', 'Naive Bayes']\n",
    "efficiency_cost_offline = [time_nb,timep_nb]\n",
    "dataset=['original','Not original']\n",
    "sns.barplot(x = models, y = efficiency_cost_offline, hue = dataset)"
   ]
  },
  {
   "cell_type": "raw",
   "id": "200d8d1b",
   "metadata": {},
   "source": [
    "# Comment:\n",
    "# We can see that Naive Bayes has the lowest overall efficiency cost, while SVM has the highest overall efficiency cost.\n",
    "\n",
    "# We can see that the feature selection decreases the overall efficiency cost when we use the SVM and Decision Tree, but increases the the overall efficiency cost quite a lot when we use the KNN. And there is not a big difference for the Naive Bayes."
   ]
  },
  {
   "cell_type": "markdown",
   "id": "c5868b41",
   "metadata": {},
   "source": [
    "## 6.3 Results"
   ]
  },
  {
   "cell_type": "raw",
   "id": "05526284",
   "metadata": {},
   "source": [
    "# Based on the comparison in efficiency cost and accuracy between each model for original data and prune data.\n",
    "# We can conclude that \n",
    "# (1) Though feature selection can help us decrease efficiency cost under most case, we lose a little accuracy at the same time. \n",
    "# (2) Naive Bayes has the highest accuracy.\n",
    "# (3) Naive Bayes has the lowest efficiency cost.\n",
    "\n",
    "Overall, even though feature selection decreases the efficiency cost a little bit (there's actually not a bit difference), we lose more accuracy after comparison. Thus, the feature selection is not very helpful. Also, we can see that the efficiency cost when we use the Naive Bayes Model is very little, so it is recommended to use the original data."
   ]
  },
  {
   "cell_type": "markdown",
   "id": "844f6fd4",
   "metadata": {},
   "source": [
    "# 7. Examples"
   ]
  },
  {
   "cell_type": "code",
   "execution_count": 120,
   "id": "597bd70e",
   "metadata": {},
   "outputs": [
    {
     "data": {
      "text/plain": [
       "['Lately they have been extremely nice and helpful on the phone.',\n",
       " 'Love This Phone.',\n",
       " 'Excellent product for the price.',\n",
       " 'I love this phone!.',\n",
       " 'Excellent product for the price.',\n",
       " 'This is actually a very smart movie.  ',\n",
       " 'For people who are first timers in film making, I think they did an excellent job!!  ',\n",
       " \"Being a 90's child, I truly enjoyed this show and I can proudly say that I enjoyed it big time and even more than the classical WB cartoons.  \",\n",
       " 'There is, however, some pretty good acting (at least, for this type of film).  ',\n",
       " 'But it picked up speed and got right to the point.  ',\n",
       " 'I love this place.',\n",
       " 'I love this place.',\n",
       " \"It's NOT hard to make a decent hamburger.\"]"
      ]
     },
     "execution_count": 120,
     "metadata": {},
     "output_type": "execute_result"
    }
   ],
   "source": [
    "example_test = X_test[0:10]\n",
    "example_actualValue = y_test[0:10]\n",
    "\n",
    "# 10 sentences as example\n",
    "X_value = original['Count_Array']\n",
    "example_sentence = []\n",
    "for i in range(0, len(original)):\n",
    "    for j in range(0, 10):\n",
    "        if (X_value.iloc[i] == X_test[j]).sum() == len(X_test[0]):\n",
    "            example_sentence.append(original['Sentence'].iloc[i])\n",
    "example_sentence"
   ]
  },
  {
   "cell_type": "code",
   "execution_count": 126,
   "id": "2fd1319e",
   "metadata": {},
   "outputs": [],
   "source": [
    "example_test_set = pd.DataFrame(columns=['Count_Array','Label'])\n",
    "example_test_set['Count_Array'] = pd.Series(example_test.tolist())\n",
    "example_test_set['Label'] = pd.Series(example_actualValue.reset_index(drop=True))"
   ]
  },
  {
   "cell_type": "code",
   "execution_count": 128,
   "id": "a8ffe7fd",
   "metadata": {},
   "outputs": [
    {
     "name": "stdout",
     "output_type": "stream",
     "text": [
      "Original Data\n",
      "Prediction:  [1, 0, 1, 1, 1, 1, 1, 0, 1, 0]\n",
      "Actual:  [1 1 1 1 1 1 1 0 1 1]\n",
      "Original Data\n",
      "Prediction:  [1, 1, 1, 1, 1, 1, 1, 0, 1, 1]\n",
      "Actual:  [1 1 1 1 1 1 1 0 1 1]\n"
     ]
    }
   ],
   "source": [
    "# Naive Bayes\n",
    "predictions_nb = NaiveBayes(word_list, train_set, example_test_set)\n",
    "\n",
    "print('Original Data')\n",
    "print('Prediction: ', predictions_nb)\n",
    "print('Actual: ', example_actualValue.to_numpy())\n",
    "\n",
    "predictions_nbp = NaiveBayes(word_list, train_set_p, example_test_set)\n",
    "print('Original Data')\n",
    "print('Prediction: ', predictions_nbp)\n",
    "print('Actual: ', example_actualValue.to_numpy())"
   ]
  },
  {
   "cell_type": "code",
   "execution_count": 89,
   "id": "e966cd8b",
   "metadata": {},
   "outputs": [
    {
     "name": "stdout",
     "output_type": "stream",
     "text": [
      "Original Data\n",
      "Prediction:  [1 0 1 1 1 1 1 0 1 1]\n",
      "Actual:  [1 1 1 1 1 1 1 0 1 1]\n",
      "------------------------------------\n",
      "Pruned Data\n",
      "Prediction:  [1 1 1 1 1 1 1 0 1 1]\n",
      "Actual:  [1 1 1 1 1 1 1 0 1 1]\n"
     ]
    }
   ],
   "source": [
    "# Decision Tree\n",
    "\n",
    "dtree.fit(X_train, y_train)\n",
    "predictions_dt = dtree.predict(example_test)\n",
    "\n",
    "print('Original Data')\n",
    "print('Prediction: ', predictions_dt)\n",
    "print('Actual: ', example_actualValue.to_numpy())\n",
    "\n",
    "dtree.fit(Xp_train, yp_train)\n",
    "predictions_dtp = dtree.predict(example_test)\n",
    "print('------------------------------------')\n",
    "print('Pruned Data')\n",
    "print('Prediction: ', predictions_dtp)\n",
    "print('Actual: ', example_actualValue.to_numpy())"
   ]
  },
  {
   "cell_type": "code",
   "execution_count": 95,
   "id": "c087cbb6",
   "metadata": {},
   "outputs": [
    {
     "name": "stdout",
     "output_type": "stream",
     "text": [
      "Original Data\n",
      "Prediction:  [1 1 1 1 1 1 1 0 1 1]\n",
      "Actual:  [1 1 1 1 1 1 1 0 1 1]\n",
      "------------------------------------\n",
      "Pruned Data\n",
      "Prediction:  [0 0 1 1 1 0 1 0 1 1]\n",
      "Actual:  [1 1 1 1 1 1 1 0 1 1]\n"
     ]
    }
   ],
   "source": [
    "# KNN\n",
    "\n",
    "knn.fit(X_train, y_train)\n",
    "predictions_knn = svm.predict(example_test)\n",
    "\n",
    "print('Original Data')\n",
    "print('Prediction: ', predictions_knn)\n",
    "print('Actual: ', example_actualValue.to_numpy())\n",
    "\n",
    "knn.fit(Xp_train, yp_train)\n",
    "predictions_knnp = knn.predict(example_test)\n",
    "print('------------------------------------')\n",
    "print('Pruned Data')\n",
    "print('Prediction: ', predictions_knnp)\n",
    "print('Actual: ', example_actualValue.to_numpy())"
   ]
  },
  {
   "cell_type": "code",
   "execution_count": 94,
   "id": "33141a37",
   "metadata": {},
   "outputs": [
    {
     "name": "stdout",
     "output_type": "stream",
     "text": [
      "Original Data\n",
      "Prediction:  [1 1 1 1 1 1 1 0 1 1]\n",
      "Actual:  [1 1 1 1 1 1 1 0 1 1]\n",
      "------------------------------------\n",
      "Pruned Data\n",
      "Prediction:  [1 1 1 1 1 1 1 0 1 1]\n",
      "Actual:  [1 1 1 1 1 1 1 0 1 1]\n"
     ]
    }
   ],
   "source": [
    "# SVM\n",
    "\n",
    "svm.fit(Xp_train, yp_train)\n",
    "predictions_svm = svm.predict(example_test)\n",
    "\n",
    "print('Original Data')\n",
    "print('Prediction: ', predictions_svm)\n",
    "print('Actual: ', example_actualValue.to_numpy())\n",
    "\n",
    "svm.fit(Xp_train, yp_train)\n",
    "predictions_svmp = svm.predict(example_test)\n",
    "print('------------------------------------')\n",
    "print('Pruned Data')\n",
    "print('Prediction: ', predictions_svmp)\n",
    "print('Actual: ', example_actualValue.to_numpy())"
   ]
  }
 ],
 "metadata": {
  "kernelspec": {
   "display_name": "Python 3 (ipykernel)",
   "language": "python",
   "name": "python3"
  },
  "language_info": {
   "codemirror_mode": {
    "name": "ipython",
    "version": 3
   },
   "file_extension": ".py",
   "mimetype": "text/x-python",
   "name": "python",
   "nbconvert_exporter": "python",
   "pygments_lexer": "ipython3",
   "version": "3.9.12"
  }
 },
 "nbformat": 4,
 "nbformat_minor": 5
}
